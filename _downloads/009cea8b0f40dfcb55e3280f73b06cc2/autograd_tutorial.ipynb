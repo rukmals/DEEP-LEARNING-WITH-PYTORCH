{
  "nbformat": 4,
  "nbformat_minor": 0,
  "metadata": {
    "kernelspec": {
      "display_name": "Python 3",
      "language": "python",
      "name": "python3"
    },
    "language_info": {
      "codemirror_mode": {
        "name": "ipython",
        "version": 3
      },
      "file_extension": ".py",
      "mimetype": "text/x-python",
      "name": "python",
      "nbconvert_exporter": "python",
      "pygments_lexer": "ipython3",
      "version": "3.6.12"
    },
    "colab": {
      "name": "autograd_tutorial.ipynb",
      "provenance": []
    },
    "widgets": {
      "application/vnd.jupyter.widget-state+json": {
        "b510ce56b8764482a92beb490ba94a61": {
          "model_module": "@jupyter-widgets/controls",
          "model_name": "HBoxModel",
          "state": {
            "_view_name": "HBoxView",
            "_dom_classes": [],
            "_model_name": "HBoxModel",
            "_view_module": "@jupyter-widgets/controls",
            "_model_module_version": "1.5.0",
            "_view_count": null,
            "_view_module_version": "1.5.0",
            "box_style": "",
            "layout": "IPY_MODEL_b8294175c9c246e0bc92f838617d3188",
            "_model_module": "@jupyter-widgets/controls",
            "children": [
              "IPY_MODEL_6c4de0d41f674bf49a4bfa8131c91351",
              "IPY_MODEL_f6b3304a29ae4ca38437e4920975ba86"
            ]
          }
        },
        "b8294175c9c246e0bc92f838617d3188": {
          "model_module": "@jupyter-widgets/base",
          "model_name": "LayoutModel",
          "state": {
            "_view_name": "LayoutView",
            "grid_template_rows": null,
            "right": null,
            "justify_content": null,
            "_view_module": "@jupyter-widgets/base",
            "overflow": null,
            "_model_module_version": "1.2.0",
            "_view_count": null,
            "flex_flow": null,
            "width": null,
            "min_width": null,
            "border": null,
            "align_items": null,
            "bottom": null,
            "_model_module": "@jupyter-widgets/base",
            "top": null,
            "grid_column": null,
            "overflow_y": null,
            "overflow_x": null,
            "grid_auto_flow": null,
            "grid_area": null,
            "grid_template_columns": null,
            "flex": null,
            "_model_name": "LayoutModel",
            "justify_items": null,
            "grid_row": null,
            "max_height": null,
            "align_content": null,
            "visibility": null,
            "align_self": null,
            "height": null,
            "min_height": null,
            "padding": null,
            "grid_auto_rows": null,
            "grid_gap": null,
            "max_width": null,
            "order": null,
            "_view_module_version": "1.2.0",
            "grid_template_areas": null,
            "object_position": null,
            "object_fit": null,
            "grid_auto_columns": null,
            "margin": null,
            "display": null,
            "left": null
          }
        },
        "6c4de0d41f674bf49a4bfa8131c91351": {
          "model_module": "@jupyter-widgets/controls",
          "model_name": "FloatProgressModel",
          "state": {
            "_view_name": "ProgressView",
            "style": "IPY_MODEL_3de8a44fd0054c5aaca623260b5b5f43",
            "_dom_classes": [],
            "description": "100%",
            "_model_name": "FloatProgressModel",
            "bar_style": "success",
            "max": 46827520,
            "_view_module": "@jupyter-widgets/controls",
            "_model_module_version": "1.5.0",
            "value": 46827520,
            "_view_count": null,
            "_view_module_version": "1.5.0",
            "orientation": "horizontal",
            "min": 0,
            "description_tooltip": null,
            "_model_module": "@jupyter-widgets/controls",
            "layout": "IPY_MODEL_411f8d78923a4eba9d7956634019cd49"
          }
        },
        "f6b3304a29ae4ca38437e4920975ba86": {
          "model_module": "@jupyter-widgets/controls",
          "model_name": "HTMLModel",
          "state": {
            "_view_name": "HTMLView",
            "style": "IPY_MODEL_e7266fc4701e4520b2c99f03049e0827",
            "_dom_classes": [],
            "description": "",
            "_model_name": "HTMLModel",
            "placeholder": "​",
            "_view_module": "@jupyter-widgets/controls",
            "_model_module_version": "1.5.0",
            "value": " 44.7M/44.7M [03:04&lt;00:00, 254kB/s]",
            "_view_count": null,
            "_view_module_version": "1.5.0",
            "description_tooltip": null,
            "_model_module": "@jupyter-widgets/controls",
            "layout": "IPY_MODEL_6f7f2cb4a6404997823fa95c5d912089"
          }
        },
        "3de8a44fd0054c5aaca623260b5b5f43": {
          "model_module": "@jupyter-widgets/controls",
          "model_name": "ProgressStyleModel",
          "state": {
            "_view_name": "StyleView",
            "_model_name": "ProgressStyleModel",
            "description_width": "initial",
            "_view_module": "@jupyter-widgets/base",
            "_model_module_version": "1.5.0",
            "_view_count": null,
            "_view_module_version": "1.2.0",
            "bar_color": null,
            "_model_module": "@jupyter-widgets/controls"
          }
        },
        "411f8d78923a4eba9d7956634019cd49": {
          "model_module": "@jupyter-widgets/base",
          "model_name": "LayoutModel",
          "state": {
            "_view_name": "LayoutView",
            "grid_template_rows": null,
            "right": null,
            "justify_content": null,
            "_view_module": "@jupyter-widgets/base",
            "overflow": null,
            "_model_module_version": "1.2.0",
            "_view_count": null,
            "flex_flow": null,
            "width": null,
            "min_width": null,
            "border": null,
            "align_items": null,
            "bottom": null,
            "_model_module": "@jupyter-widgets/base",
            "top": null,
            "grid_column": null,
            "overflow_y": null,
            "overflow_x": null,
            "grid_auto_flow": null,
            "grid_area": null,
            "grid_template_columns": null,
            "flex": null,
            "_model_name": "LayoutModel",
            "justify_items": null,
            "grid_row": null,
            "max_height": null,
            "align_content": null,
            "visibility": null,
            "align_self": null,
            "height": null,
            "min_height": null,
            "padding": null,
            "grid_auto_rows": null,
            "grid_gap": null,
            "max_width": null,
            "order": null,
            "_view_module_version": "1.2.0",
            "grid_template_areas": null,
            "object_position": null,
            "object_fit": null,
            "grid_auto_columns": null,
            "margin": null,
            "display": null,
            "left": null
          }
        },
        "e7266fc4701e4520b2c99f03049e0827": {
          "model_module": "@jupyter-widgets/controls",
          "model_name": "DescriptionStyleModel",
          "state": {
            "_view_name": "StyleView",
            "_model_name": "DescriptionStyleModel",
            "description_width": "",
            "_view_module": "@jupyter-widgets/base",
            "_model_module_version": "1.5.0",
            "_view_count": null,
            "_view_module_version": "1.2.0",
            "_model_module": "@jupyter-widgets/controls"
          }
        },
        "6f7f2cb4a6404997823fa95c5d912089": {
          "model_module": "@jupyter-widgets/base",
          "model_name": "LayoutModel",
          "state": {
            "_view_name": "LayoutView",
            "grid_template_rows": null,
            "right": null,
            "justify_content": null,
            "_view_module": "@jupyter-widgets/base",
            "overflow": null,
            "_model_module_version": "1.2.0",
            "_view_count": null,
            "flex_flow": null,
            "width": null,
            "min_width": null,
            "border": null,
            "align_items": null,
            "bottom": null,
            "_model_module": "@jupyter-widgets/base",
            "top": null,
            "grid_column": null,
            "overflow_y": null,
            "overflow_x": null,
            "grid_auto_flow": null,
            "grid_area": null,
            "grid_template_columns": null,
            "flex": null,
            "_model_name": "LayoutModel",
            "justify_items": null,
            "grid_row": null,
            "max_height": null,
            "align_content": null,
            "visibility": null,
            "align_self": null,
            "height": null,
            "min_height": null,
            "padding": null,
            "grid_auto_rows": null,
            "grid_gap": null,
            "max_width": null,
            "order": null,
            "_view_module_version": "1.2.0",
            "grid_template_areas": null,
            "object_position": null,
            "object_fit": null,
            "grid_auto_columns": null,
            "margin": null,
            "display": null,
            "left": null
          }
        }
      }
    }
  },
  "cells": [
    {
      "cell_type": "code",
      "metadata": {
        "id": "IdA9-I-8ooei"
      },
      "source": [
        "%matplotlib inline"
      ],
      "execution_count": 1,
      "outputs": []
    },
    {
      "cell_type": "markdown",
      "metadata": {
        "id": "w5SE1hfZooek"
      },
      "source": [
        "\n",
        "A Gentle Introduction to ``torch.autograd``\n",
        "---------------------------------\n",
        "\n",
        "``torch.autograd`` is PyTorch’s automatic differentiation engine that powers\n",
        "neural network training. In this section, you will get a conceptual\n",
        "understanding of how autograd helps a neural network train.\n",
        "\n",
        "Background\n",
        "~~~~~~~~~~\n",
        "Neural networks (NNs) are a collection of nested functions that are\n",
        "executed on some input data. These functions are defined by *parameters*\n",
        "(consisting of weights and biases), which in PyTorch are stored in\n",
        "tensors.\n",
        "\n",
        "Training a NN happens in two steps:\n",
        "\n",
        "**Forward Propagation**: In forward prop, the NN makes its best guess\n",
        "about the correct output. It runs the input data through each of its\n",
        "functions to make this guess.\n",
        "\n",
        "**Backward Propagation**: In backprop, the NN adjusts its parameters\n",
        "proportionate to the error in its guess. It does this by traversing\n",
        "backwards from the output, collecting the derivatives of the error with\n",
        "respect to the parameters of the functions (*gradients*), and optimizing\n",
        "the parameters using gradient descent. For a more detailed walkthrough\n",
        "of backprop, check out this `video from\n",
        "3Blue1Brown <https://www.youtube.com/watch?v=tIeHLnjs5U8>`__.\n",
        "\n",
        "\n",
        "\n",
        "\n",
        "Usage in PyTorch\n",
        "~~~~~~~~~~~\n",
        "Let's take a look at a single training step.\n",
        "For this example, we load a pretrained resnet18 model from ``torchvision``.\n",
        "We create a random data tensor to represent a single image with 3 channels, and height & width of 64,\n",
        "and its corresponding ``label`` initialized to some random values.\n",
        "\n"
      ]
    },
    {
      "cell_type": "code",
      "metadata": {
        "id": "K0IFQzczooek",
        "outputId": "e6a3d009-b66b-4670-bd18-d6b256f6ac80",
        "colab": {
          "base_uri": "https://localhost:8080/",
          "height": 84,
          "referenced_widgets": [
            "b510ce56b8764482a92beb490ba94a61",
            "b8294175c9c246e0bc92f838617d3188",
            "6c4de0d41f674bf49a4bfa8131c91351",
            "f6b3304a29ae4ca38437e4920975ba86",
            "3de8a44fd0054c5aaca623260b5b5f43",
            "411f8d78923a4eba9d7956634019cd49",
            "e7266fc4701e4520b2c99f03049e0827",
            "6f7f2cb4a6404997823fa95c5d912089"
          ]
        }
      },
      "source": [
        "import torch, torchvision\n",
        "model = torchvision.models.resnet18(pretrained=True)\n",
        "data = torch.rand(1, 3, 64, 64)\n",
        "labels = torch.rand(1, 1000)"
      ],
      "execution_count": 2,
      "outputs": [
        {
          "output_type": "stream",
          "text": [
            "Downloading: \"https://download.pytorch.org/models/resnet18-5c106cde.pth\" to /root/.cache/torch/hub/checkpoints/resnet18-5c106cde.pth\n"
          ],
          "name": "stderr"
        },
        {
          "output_type": "display_data",
          "data": {
            "application/vnd.jupyter.widget-view+json": {
              "model_id": "b510ce56b8764482a92beb490ba94a61",
              "version_minor": 0,
              "version_major": 2
            },
            "text/plain": [
              "HBox(children=(FloatProgress(value=0.0, max=46827520.0), HTML(value='')))"
            ]
          },
          "metadata": {
            "tags": []
          }
        },
        {
          "output_type": "stream",
          "text": [
            "\n"
          ],
          "name": "stdout"
        }
      ]
    },
    {
      "cell_type": "code",
      "metadata": {
        "id": "5rjcpuwTpE2U",
        "outputId": "0eeb3152-63f7-49ac-d297-7e646259f30b",
        "colab": {
          "base_uri": "https://localhost:8080/"
        }
      },
      "source": [
        "model"
      ],
      "execution_count": 4,
      "outputs": [
        {
          "output_type": "execute_result",
          "data": {
            "text/plain": [
              "ResNet(\n",
              "  (conv1): Conv2d(3, 64, kernel_size=(7, 7), stride=(2, 2), padding=(3, 3), bias=False)\n",
              "  (bn1): BatchNorm2d(64, eps=1e-05, momentum=0.1, affine=True, track_running_stats=True)\n",
              "  (relu): ReLU(inplace=True)\n",
              "  (maxpool): MaxPool2d(kernel_size=3, stride=2, padding=1, dilation=1, ceil_mode=False)\n",
              "  (layer1): Sequential(\n",
              "    (0): BasicBlock(\n",
              "      (conv1): Conv2d(64, 64, kernel_size=(3, 3), stride=(1, 1), padding=(1, 1), bias=False)\n",
              "      (bn1): BatchNorm2d(64, eps=1e-05, momentum=0.1, affine=True, track_running_stats=True)\n",
              "      (relu): ReLU(inplace=True)\n",
              "      (conv2): Conv2d(64, 64, kernel_size=(3, 3), stride=(1, 1), padding=(1, 1), bias=False)\n",
              "      (bn2): BatchNorm2d(64, eps=1e-05, momentum=0.1, affine=True, track_running_stats=True)\n",
              "    )\n",
              "    (1): BasicBlock(\n",
              "      (conv1): Conv2d(64, 64, kernel_size=(3, 3), stride=(1, 1), padding=(1, 1), bias=False)\n",
              "      (bn1): BatchNorm2d(64, eps=1e-05, momentum=0.1, affine=True, track_running_stats=True)\n",
              "      (relu): ReLU(inplace=True)\n",
              "      (conv2): Conv2d(64, 64, kernel_size=(3, 3), stride=(1, 1), padding=(1, 1), bias=False)\n",
              "      (bn2): BatchNorm2d(64, eps=1e-05, momentum=0.1, affine=True, track_running_stats=True)\n",
              "    )\n",
              "  )\n",
              "  (layer2): Sequential(\n",
              "    (0): BasicBlock(\n",
              "      (conv1): Conv2d(64, 128, kernel_size=(3, 3), stride=(2, 2), padding=(1, 1), bias=False)\n",
              "      (bn1): BatchNorm2d(128, eps=1e-05, momentum=0.1, affine=True, track_running_stats=True)\n",
              "      (relu): ReLU(inplace=True)\n",
              "      (conv2): Conv2d(128, 128, kernel_size=(3, 3), stride=(1, 1), padding=(1, 1), bias=False)\n",
              "      (bn2): BatchNorm2d(128, eps=1e-05, momentum=0.1, affine=True, track_running_stats=True)\n",
              "      (downsample): Sequential(\n",
              "        (0): Conv2d(64, 128, kernel_size=(1, 1), stride=(2, 2), bias=False)\n",
              "        (1): BatchNorm2d(128, eps=1e-05, momentum=0.1, affine=True, track_running_stats=True)\n",
              "      )\n",
              "    )\n",
              "    (1): BasicBlock(\n",
              "      (conv1): Conv2d(128, 128, kernel_size=(3, 3), stride=(1, 1), padding=(1, 1), bias=False)\n",
              "      (bn1): BatchNorm2d(128, eps=1e-05, momentum=0.1, affine=True, track_running_stats=True)\n",
              "      (relu): ReLU(inplace=True)\n",
              "      (conv2): Conv2d(128, 128, kernel_size=(3, 3), stride=(1, 1), padding=(1, 1), bias=False)\n",
              "      (bn2): BatchNorm2d(128, eps=1e-05, momentum=0.1, affine=True, track_running_stats=True)\n",
              "    )\n",
              "  )\n",
              "  (layer3): Sequential(\n",
              "    (0): BasicBlock(\n",
              "      (conv1): Conv2d(128, 256, kernel_size=(3, 3), stride=(2, 2), padding=(1, 1), bias=False)\n",
              "      (bn1): BatchNorm2d(256, eps=1e-05, momentum=0.1, affine=True, track_running_stats=True)\n",
              "      (relu): ReLU(inplace=True)\n",
              "      (conv2): Conv2d(256, 256, kernel_size=(3, 3), stride=(1, 1), padding=(1, 1), bias=False)\n",
              "      (bn2): BatchNorm2d(256, eps=1e-05, momentum=0.1, affine=True, track_running_stats=True)\n",
              "      (downsample): Sequential(\n",
              "        (0): Conv2d(128, 256, kernel_size=(1, 1), stride=(2, 2), bias=False)\n",
              "        (1): BatchNorm2d(256, eps=1e-05, momentum=0.1, affine=True, track_running_stats=True)\n",
              "      )\n",
              "    )\n",
              "    (1): BasicBlock(\n",
              "      (conv1): Conv2d(256, 256, kernel_size=(3, 3), stride=(1, 1), padding=(1, 1), bias=False)\n",
              "      (bn1): BatchNorm2d(256, eps=1e-05, momentum=0.1, affine=True, track_running_stats=True)\n",
              "      (relu): ReLU(inplace=True)\n",
              "      (conv2): Conv2d(256, 256, kernel_size=(3, 3), stride=(1, 1), padding=(1, 1), bias=False)\n",
              "      (bn2): BatchNorm2d(256, eps=1e-05, momentum=0.1, affine=True, track_running_stats=True)\n",
              "    )\n",
              "  )\n",
              "  (layer4): Sequential(\n",
              "    (0): BasicBlock(\n",
              "      (conv1): Conv2d(256, 512, kernel_size=(3, 3), stride=(2, 2), padding=(1, 1), bias=False)\n",
              "      (bn1): BatchNorm2d(512, eps=1e-05, momentum=0.1, affine=True, track_running_stats=True)\n",
              "      (relu): ReLU(inplace=True)\n",
              "      (conv2): Conv2d(512, 512, kernel_size=(3, 3), stride=(1, 1), padding=(1, 1), bias=False)\n",
              "      (bn2): BatchNorm2d(512, eps=1e-05, momentum=0.1, affine=True, track_running_stats=True)\n",
              "      (downsample): Sequential(\n",
              "        (0): Conv2d(256, 512, kernel_size=(1, 1), stride=(2, 2), bias=False)\n",
              "        (1): BatchNorm2d(512, eps=1e-05, momentum=0.1, affine=True, track_running_stats=True)\n",
              "      )\n",
              "    )\n",
              "    (1): BasicBlock(\n",
              "      (conv1): Conv2d(512, 512, kernel_size=(3, 3), stride=(1, 1), padding=(1, 1), bias=False)\n",
              "      (bn1): BatchNorm2d(512, eps=1e-05, momentum=0.1, affine=True, track_running_stats=True)\n",
              "      (relu): ReLU(inplace=True)\n",
              "      (conv2): Conv2d(512, 512, kernel_size=(3, 3), stride=(1, 1), padding=(1, 1), bias=False)\n",
              "      (bn2): BatchNorm2d(512, eps=1e-05, momentum=0.1, affine=True, track_running_stats=True)\n",
              "    )\n",
              "  )\n",
              "  (avgpool): AdaptiveAvgPool2d(output_size=(1, 1))\n",
              "  (fc): Linear(in_features=512, out_features=1000, bias=True)\n",
              ")"
            ]
          },
          "metadata": {
            "tags": []
          },
          "execution_count": 4
        }
      ]
    },
    {
      "cell_type": "markdown",
      "metadata": {
        "id": "iNC9ySUoooel"
      },
      "source": [
        "Next, we run the input data through the model through each of its layers to make a prediction.\n",
        "This is the **forward pass**.\n",
        "\n",
        "\n"
      ]
    },
    {
      "cell_type": "code",
      "metadata": {
        "id": "33jCjaxSooel"
      },
      "source": [
        "prediction = model(data) # forward pass"
      ],
      "execution_count": 5,
      "outputs": []
    },
    {
      "cell_type": "code",
      "metadata": {
        "id": "OPVZdapkplG1",
        "outputId": "11ac6138-480f-44d2-9c92-66b0ec82483f",
        "colab": {
          "base_uri": "https://localhost:8080/"
        }
      },
      "source": [
        "prediction"
      ],
      "execution_count": 6,
      "outputs": [
        {
          "output_type": "execute_result",
          "data": {
            "text/plain": [
              "tensor([[-6.6091e-01, -3.9043e-01, -4.4125e-01, -1.5375e+00, -4.7432e-01,\n",
              "         -1.0631e-01, -5.2455e-01,  4.7079e-01,  5.0607e-01, -7.3064e-01,\n",
              "         -7.2952e-01, -7.8379e-01, -1.2326e-02, -9.0143e-01, -6.2558e-01,\n",
              "         -5.4408e-01, -5.3709e-01,  8.4435e-02, -2.6902e-01, -6.3951e-01,\n",
              "         -1.4935e+00, -3.3981e-01, -1.2819e+00,  4.4344e-01, -6.2307e-01,\n",
              "         -1.1168e+00, -7.5693e-01, -1.1173e+00, -8.1003e-01, -5.5230e-01,\n",
              "         -8.4337e-01, -7.6997e-01, -1.3438e-01, -5.0213e-01, -2.8046e-01,\n",
              "         -2.8443e-01,  6.8122e-01, -6.9525e-01, -6.7630e-01, -1.4227e-01,\n",
              "         -6.5718e-01, -6.2890e-01, -9.6026e-01, -1.7633e-01, -6.0462e-01,\n",
              "         -2.8582e-01, -5.8147e-01, -4.9072e-01, -1.0407e+00, -9.9134e-01,\n",
              "         -4.2709e-01,  4.7385e-01, -3.2110e-01, -7.6910e-01, -7.6671e-02,\n",
              "         -1.1764e+00, -6.2915e-01, -1.5157e+00, -5.2499e-01, -4.3836e-01,\n",
              "          7.3549e-01,  1.3133e-01, -1.2984e-01,  3.4763e-01, -5.9065e-01,\n",
              "         -2.7396e-01, -2.4813e-01, -3.4180e-01, -7.1924e-01, -1.0329e+00,\n",
              "         -1.6830e+00, -1.2329e-01, -1.2696e+00, -7.1011e-02, -1.2466e+00,\n",
              "         -1.1976e+00,  1.7449e-01, -3.7690e-01,  4.1357e-02, -2.1228e-01,\n",
              "         -4.2789e-01, -1.3139e+00,  3.1155e-01, -4.8341e-01, -1.2898e-01,\n",
              "          1.7944e-01,  3.3241e-01,  3.7224e-01,  1.9322e-01, -4.8880e-01,\n",
              "         -1.2522e+00, -8.6070e-01, -1.3571e+00, -2.4074e-02,  2.6415e-01,\n",
              "         -1.7509e+00, -4.0431e-01, -8.1228e-02, -1.1517e+00, -1.3961e-02,\n",
              "         -1.1251e+00, -8.6852e-01, -5.6745e-01, -4.5786e-01, -5.3588e-03,\n",
              "         -5.8090e-01, -3.4230e-01, -1.5520e+00, -1.0783e+00, -1.6036e+00,\n",
              "         -1.2957e+00, -4.5827e-01,  8.4159e-01,  1.3355e-01,  4.4741e-01,\n",
              "         -1.1941e+00, -1.0484e+00, -6.1000e-01,  2.0753e-01, -9.3609e-01,\n",
              "         -1.1499e+00, -4.5804e-01,  3.5381e-02, -1.5356e-01,  6.0371e-01,\n",
              "         -4.7648e-01,  1.0776e-01, -1.3099e+00, -9.1347e-01, -1.1455e+00,\n",
              "         -1.4309e+00, -1.1279e+00, -7.6138e-01, -1.2757e+00, -5.0440e-01,\n",
              "         -9.1753e-01, -7.4670e-01, -9.4582e-01, -1.0691e+00, -1.5343e+00,\n",
              "         -1.4957e+00, -1.6193e+00, -1.7561e+00, -1.7695e+00, -5.2513e-01,\n",
              "         -1.0617e-02, -6.0875e-01, -1.8215e+00, -9.0419e-01, -9.7406e-01,\n",
              "          7.8007e-01,  1.5694e+00, -1.0678e+00, -4.5840e-01,  2.0555e-01,\n",
              "          3.2417e-02, -5.8567e-01, -4.5792e-02,  2.8380e-01, -4.9002e-02,\n",
              "          3.8062e-01,  4.9555e-01,  4.6244e-02,  4.5619e-01,  5.6133e-01,\n",
              "         -1.0246e-01, -2.7238e-01, -5.0599e-01,  4.4934e-01, -3.5687e-01,\n",
              "         -1.8995e-01,  8.0448e-01,  3.4068e-01, -1.8730e-01,  3.7526e-01,\n",
              "         -9.4157e-01,  2.2033e-01, -3.0939e-02,  5.2616e-01,  4.3517e-01,\n",
              "          1.9528e-01,  1.8791e-01,  4.5018e-01,  2.3258e-01,  4.1998e-01,\n",
              "          6.3769e-01,  4.5677e-01,  1.4863e-01, -5.0869e-02,  1.9943e-01,\n",
              "         -3.8112e-01,  4.3122e-01,  4.1102e-01,  5.9946e-01, -4.4043e-01,\n",
              "          6.7608e-01, -4.4094e-02,  1.5320e-02,  1.4808e-01,  6.5527e-01,\n",
              "          1.1301e-01,  2.7797e-01,  6.8910e-01,  5.2090e-01, -4.4306e-02,\n",
              "          3.7787e-01, -2.2542e-01,  5.3508e-01,  1.1670e+00,  3.1015e-01,\n",
              "         -8.3561e-02,  7.6053e-02,  2.0695e-01, -6.1880e-03,  1.6510e-01,\n",
              "          1.4107e-02,  1.2579e-03,  2.0142e-01, -4.3713e-01,  4.7466e-01,\n",
              "          1.1476e-01, -1.8392e-01,  2.3997e-01,  7.7141e-01,  4.8433e-01,\n",
              "          7.0172e-01,  4.5577e-02,  7.8631e-01, -2.0339e-01, -1.6734e-01,\n",
              "          2.5582e-02,  4.9370e-01,  5.5774e-01, -1.8683e-01,  7.9643e-01,\n",
              "          1.0295e+00,  3.8237e-01,  4.7340e-01,  5.0894e-01, -1.1231e-01,\n",
              "          4.3723e-01, -1.0241e-01,  6.0403e-02,  1.6717e-01, -9.8282e-02,\n",
              "          1.8238e-01,  2.0639e-01, -3.5215e-01,  5.6448e-01,  3.8153e-01,\n",
              "          2.6015e-01,  5.4853e-01, -8.4394e-01,  6.0182e-01,  1.0008e+00,\n",
              "         -5.6161e-01,  2.7641e-01,  5.6290e-01,  1.4408e-02,  3.6973e-01,\n",
              "         -1.2490e-02, -3.4171e-01, -1.8728e-01,  4.5324e-01,  9.7655e-01,\n",
              "          7.1158e-01,  3.9461e-01,  5.6954e-01,  3.0189e-02, -5.0089e-01,\n",
              "         -7.1843e-01, -9.4293e-01, -4.6514e-01,  7.5435e-01, -1.1525e+00,\n",
              "         -5.8857e-01, -9.4955e-01, -5.5234e-01, -8.7834e-01, -3.1746e-02,\n",
              "         -5.6647e-02,  8.1051e-01,  6.2413e-01,  1.1543e-02,  5.2014e-01,\n",
              "          8.8003e-01, -2.8909e-01, -2.7932e-01, -6.1262e-01, -1.3211e+00,\n",
              "         -7.1233e-01, -1.3452e+00, -5.6371e-01, -5.9119e-01, -6.9156e-01,\n",
              "         -6.1268e-01, -6.7731e-01, -9.0318e-01, -2.0845e-01,  3.5014e-01,\n",
              "         -1.5629e+00, -8.5637e-01, -4.2207e-01, -3.2784e-01, -1.2182e+00,\n",
              "         -8.8038e-01,  3.4388e-02, -7.7351e-01, -1.3675e+00, -5.8825e-01,\n",
              "          2.8893e-01, -6.9660e-01, -5.5482e-01,  8.5018e-02,  3.1426e-01,\n",
              "         -7.7198e-01, -9.0310e-01, -1.2809e+00, -9.8783e-01, -5.8304e-01,\n",
              "         -1.2816e+00, -1.4568e+00, -1.2133e+00, -1.6917e+00, -1.3360e+00,\n",
              "         -1.6464e+00, -1.1759e+00,  5.3458e-02, -1.8981e-01, -5.2202e-01,\n",
              "          2.0067e-01,  1.3793e-01,  7.0339e-02,  2.4373e-01, -2.3123e-01,\n",
              "         -5.9707e-01, -1.1352e+00,  3.7776e-01,  5.2764e-01, -1.5113e+00,\n",
              "         -4.6842e-01,  6.0230e-01, -5.8288e-01, -1.5271e+00, -1.1284e+00,\n",
              "          6.6777e-01, -5.1276e-01, -1.5551e+00, -2.5052e-01, -1.1219e+00,\n",
              "         -1.1972e+00, -2.2285e+00, -1.3758e+00, -7.9118e-01, -7.2928e-01,\n",
              "          2.1044e-01,  1.4420e+00,  3.0113e-01,  8.8814e-01,  7.4026e-01,\n",
              "          1.0957e-01,  6.7593e-01,  3.1911e-01,  2.6796e-01, -1.2634e-01,\n",
              "         -4.8089e-01, -8.3849e-01,  1.0038e-01, -2.7599e-01, -3.0537e-02,\n",
              "         -6.3231e-01, -3.2493e-01, -2.2153e-01,  2.6490e-02,  3.7348e-02,\n",
              "         -8.5535e-01, -7.2313e-01,  5.6557e-01,  1.3524e-01, -4.7949e-01,\n",
              "          5.1993e-01, -2.1801e-01, -1.4352e-01, -3.6849e-01, -4.2678e-01,\n",
              "         -3.6007e-01, -8.5661e-01, -1.0593e+00, -6.0929e-01, -2.3090e-01,\n",
              "          6.0038e-01,  8.3062e-02, -1.3363e+00, -1.8647e+00, -3.3202e-01,\n",
              "          4.6386e-01, -1.5218e+00, -9.2163e-01,  4.7095e-01,  4.4038e-01,\n",
              "         -8.1524e-01,  4.6408e-01,  9.0319e-02, -1.9471e+00, -1.6333e+00,\n",
              "         -5.2421e-01, -5.5905e-01, -3.0491e-01, -3.7125e-01,  1.1147e+00,\n",
              "         -4.6651e-01,  1.0257e-01,  2.1876e+00,  7.7162e-01,  1.1344e-01,\n",
              "          6.7039e-01, -1.9868e-01,  2.1270e-02,  1.1411e-01,  6.7849e-01,\n",
              "          7.8376e-01,  1.4670e+00, -1.7281e-01,  1.7296e-01,  1.4560e-01,\n",
              "         -1.0647e+00,  9.1491e-02,  1.4286e+00,  1.7783e+00,  4.5961e-01,\n",
              "         -7.3615e-01, -1.8537e-01,  2.9038e-01,  6.4805e-01,  4.6604e-01,\n",
              "          8.8619e-01, -4.4631e-01, -4.7486e-01,  7.2112e-01,  2.3092e-01,\n",
              "          1.0263e+00,  4.7625e-01,  8.3524e-02, -8.3516e-01, -2.4826e-01,\n",
              "          1.5015e-01,  3.6951e-01,  1.6017e+00,  1.0672e+00, -6.7487e-01,\n",
              "         -4.7183e-01,  4.6972e-01,  3.8279e-01, -3.2279e-01, -2.4625e-01,\n",
              "          5.0258e-01,  1.6900e+00,  1.2680e+00, -2.4837e-01,  8.4846e-01,\n",
              "         -6.6345e-01,  3.9629e-01,  1.4743e+00,  2.7147e+00,  9.2423e-01,\n",
              "         -2.1694e-01, -1.0977e+00, -5.3652e-01, -8.4928e-02,  1.5460e+00,\n",
              "          1.2589e+00,  7.8421e-01,  2.9426e-01,  9.0847e-01, -2.0804e-01,\n",
              "          1.2688e-01, -5.1861e-01,  4.4426e-01,  7.4922e-01,  2.7749e-01,\n",
              "         -1.1335e-01,  3.0514e-01,  3.6061e-01, -1.1302e+00, -1.2826e+00,\n",
              "         -2.8456e-02, -2.7092e-01,  1.2035e+00,  1.6414e+00,  1.1776e+00,\n",
              "          5.5128e-01,  8.1163e-01,  4.8312e-01, -1.3348e+00,  1.0783e+00,\n",
              "         -1.1935e+00, -3.3527e-02, -4.7587e-01, -6.5648e-01,  1.2335e+00,\n",
              "         -1.6440e+00,  6.8720e-01,  1.2702e+00,  3.6205e-01,  1.0396e+00,\n",
              "          1.2152e+00,  1.1886e+00,  5.1566e-01,  2.7397e-01, -1.3531e-01,\n",
              "         -1.2320e+00, -1.1611e+00,  8.8005e-01,  2.6736e-02,  1.2394e+00,\n",
              "          1.6309e+00,  4.5677e-01,  2.3306e-02,  1.3639e+00,  5.8377e-01,\n",
              "         -1.0142e+00,  9.8062e-02,  9.5786e-01,  1.7353e+00,  2.3652e-01,\n",
              "         -6.6775e-01, -1.2040e-01, -4.7663e-01,  2.1465e-01, -1.2560e-01,\n",
              "          1.0848e+00,  2.0812e-01,  4.1085e-02, -1.0699e+00,  5.9462e-01,\n",
              "         -5.6994e-01, -2.3873e-01, -6.7118e-01,  1.4352e-01,  9.3325e-01,\n",
              "         -1.1098e+00,  1.5903e+00,  1.0754e+00,  9.3492e-01,  5.8732e-01,\n",
              "          1.1532e+00,  6.5790e-01, -2.1018e+00, -1.6752e+00, -1.4379e-01,\n",
              "         -4.3171e-01, -1.3814e-01,  7.6680e-01, -2.1147e-01, -1.4814e+00,\n",
              "         -1.0252e+00,  5.9677e-01,  6.7376e-02,  1.0450e+00,  9.9716e-01,\n",
              "          1.4172e-01, -2.5391e-01,  8.3922e-01, -5.7723e-02, -1.2568e+00,\n",
              "         -9.3119e-01,  6.1176e-02,  1.1639e+00,  6.2393e-01, -7.0026e-01,\n",
              "          1.0144e+00, -1.9992e-01,  8.6359e-01, -8.9169e-01,  7.5688e-01,\n",
              "         -3.0078e-01, -7.6843e-01,  1.1079e+00,  4.9958e-01, -7.6335e-02,\n",
              "          1.3346e-01, -2.9800e-01,  6.5842e-01,  7.9433e-01,  8.5041e-01,\n",
              "          7.3448e-01, -3.9342e-01,  1.9621e+00,  8.0636e-01,  1.2403e+00,\n",
              "         -5.6309e-01,  4.2699e-01, -5.5652e-01,  9.0085e-01,  4.2626e-01,\n",
              "         -6.8979e-01,  1.2225e+00, -2.3381e-01, -8.6876e-01,  7.4793e-01,\n",
              "          2.1381e+00, -6.8094e-03, -1.6477e-01, -8.1972e-01,  4.9990e-01,\n",
              "          2.8566e-01,  1.4510e+00, -4.3055e-01,  6.3206e-01, -2.1443e-01,\n",
              "          1.0250e+00,  3.9083e-01, -5.2880e-01,  7.6541e-01, -2.5624e-01,\n",
              "          3.7660e-01,  1.1634e+00,  6.0959e-01,  1.8525e+00,  9.2173e-01,\n",
              "          1.0862e+00,  6.4623e-01,  2.1556e-01,  4.7320e-01,  8.4323e-02,\n",
              "         -1.3574e+00,  1.1096e+00, -5.6053e-01, -9.1842e-01,  5.6710e-02,\n",
              "          3.7017e-02,  8.7067e-01,  8.2515e-01,  1.3081e+00, -2.1717e-01,\n",
              "          3.0941e-01,  1.0876e+00,  6.9400e-01,  6.4164e-01,  4.5529e-01,\n",
              "         -1.6450e+00,  1.2123e+00, -9.6804e-02,  1.3688e+00,  1.0238e+00,\n",
              "         -9.9480e-01,  6.3011e-01,  5.2808e-01, -7.0282e-01, -1.2668e+00,\n",
              "          9.2630e-01,  2.8297e-01,  5.8769e-01,  8.9781e-01, -3.6428e-01,\n",
              "          5.5757e-01, -1.1274e-01,  6.8990e-02,  3.1692e-01,  3.6815e-01,\n",
              "         -1.8692e-02, -1.3893e+00,  1.0412e-01, -1.0541e+00,  8.8118e-01,\n",
              "          4.9316e-02,  1.2647e+00,  4.4721e-01, -6.3352e-01, -4.2942e-01,\n",
              "          8.9527e-02, -3.4206e-01, -1.6763e-01,  5.8094e-01,  1.5320e+00,\n",
              "         -8.6098e-01,  1.6051e+00,  1.1382e+00,  1.0186e+00,  1.8466e-01,\n",
              "          3.8970e-01,  5.5978e-01, -6.0214e-01,  6.2852e-01,  1.1181e+00,\n",
              "         -1.3763e+00, -2.9421e-02, -1.3013e+00, -7.3312e-02, -7.6459e-01,\n",
              "         -7.2068e-01,  6.6995e-01,  5.9824e-01,  6.4429e-01, -1.0791e+00,\n",
              "          8.3886e-01,  1.3472e+00,  4.9976e-02, -6.5750e-01,  6.1573e-01,\n",
              "          2.0811e+00, -4.3814e-01, -1.0292e-01,  3.9138e-01,  8.3755e-01,\n",
              "         -4.2571e-01, -4.0225e-01,  3.2349e-01,  9.5077e-01, -1.9845e-01,\n",
              "          7.9665e-01,  1.0313e+00,  1.8446e-01, -1.6962e-01,  7.3480e-01,\n",
              "         -4.2265e-01,  6.8291e-01, -8.5079e-01, -8.4761e-02,  5.9833e-01,\n",
              "          2.4473e-01,  1.4202e-01,  1.4463e+00,  3.0949e-01, -5.6088e-01,\n",
              "          1.3318e+00, -6.4645e-01, -2.8514e-01,  1.5614e+00, -4.3371e-01,\n",
              "          3.8710e-01,  2.2333e+00, -6.9080e-01,  1.7718e+00, -1.5147e+00,\n",
              "          6.8812e-02,  7.9224e-02,  7.4078e-01,  1.0942e+00,  3.5120e-01,\n",
              "          1.1729e+00, -7.3429e-02,  4.3989e-01,  3.6039e-01,  8.1033e-01,\n",
              "          4.6722e-01,  2.7920e-01,  8.9189e-01,  4.3597e-01,  1.6207e+00,\n",
              "          3.6112e-01, -2.2926e-01,  1.0743e-01,  6.6757e-01,  8.4366e-01,\n",
              "         -3.7648e-01,  9.9642e-01, -7.4092e-02,  1.3775e+00, -1.7469e-01,\n",
              "          1.3485e-02,  9.1031e-01,  4.3120e-01,  6.2279e-01,  1.2081e+00,\n",
              "          6.7235e-01,  2.8914e-01,  4.5857e-01, -3.3369e-02,  1.1736e+00,\n",
              "          4.3889e-01,  6.2096e-01,  1.6697e+00,  6.5235e-01,  7.1517e-01,\n",
              "          4.7109e-01,  2.5748e-01,  4.1922e-01,  1.4302e+00, -8.3319e-01,\n",
              "         -9.2351e-01, -1.0249e+00,  9.8373e-01,  1.0340e+00,  1.5838e+00,\n",
              "          7.1547e-02,  7.4512e-01,  1.3174e+00,  3.7252e-01, -1.3078e-01,\n",
              "          8.9816e-01,  1.2377e+00,  1.7478e+00,  8.5343e-01,  1.5120e-01,\n",
              "          3.2068e-01,  1.3475e+00,  5.5329e-01, -6.0988e-01,  2.6730e-01,\n",
              "         -1.2605e+00,  1.6123e-01, -1.1524e+00, -1.1638e+00,  1.1469e+00,\n",
              "          1.4032e+00,  5.1306e-01,  2.3998e-01,  1.2038e+00,  1.3016e-01,\n",
              "         -4.2699e-01,  1.0113e+00, -3.3687e-01,  1.4792e+00, -1.2591e+00,\n",
              "          2.0234e-02,  1.2595e-01, -1.2381e+00,  1.5625e+00,  2.2058e-01,\n",
              "         -1.6231e+00, -8.3227e-01,  2.0393e-01,  5.4863e-01,  1.0415e+00,\n",
              "         -9.0144e-01,  1.9327e-01,  7.5684e-01,  1.3136e+00, -7.5700e-01,\n",
              "          1.1045e+00,  3.9788e-01, -1.0913e+00, -9.9942e-01,  1.4874e-01,\n",
              "          6.5645e-01,  1.8647e+00,  1.6724e+00,  7.9692e-01, -5.0246e-01,\n",
              "          1.7103e+00,  5.6352e-01,  6.0512e-01,  5.9225e-01,  5.7736e-01,\n",
              "          1.6183e+00,  6.7306e-01, -3.6040e-01,  4.5189e-01,  8.6001e-01,\n",
              "          1.2254e+00,  1.1175e+00,  1.9461e+00, -6.0336e-01, -6.2540e-01,\n",
              "          7.2064e-01, -5.3556e-01, -4.2367e-01, -5.2544e-01,  9.7907e-01,\n",
              "          2.0314e-01,  1.5672e+00,  7.2054e-01, -9.8391e-04, -5.0721e-01,\n",
              "          4.6210e-01,  1.3560e-02, -5.5683e-01,  1.6544e+00, -4.7009e-01,\n",
              "          9.9481e-01, -1.1588e+00,  1.2992e+00, -1.1373e+00, -2.4707e+00,\n",
              "          4.9944e-02,  1.4855e+00,  6.2222e-02, -1.1249e-01,  1.4739e+00,\n",
              "          9.3560e-01, -4.8287e-01,  8.6436e-01,  1.4647e+00, -2.6022e-02,\n",
              "          1.8324e-01, -5.1605e-01, -4.6426e-01, -1.0732e+00,  1.0131e-01,\n",
              "         -8.8409e-02,  3.7953e-02,  8.4171e-01, -1.3366e-01, -9.7931e-01,\n",
              "         -7.1044e-01,  1.0294e+00,  6.3202e-01,  1.8740e+00,  2.0631e+00,\n",
              "         -1.2577e+00, -2.7359e-01,  1.4795e+00,  5.5392e-01,  7.1412e-01,\n",
              "          2.9888e-02, -4.9662e-01,  1.5413e+00, -8.5000e-01,  8.7966e-01,\n",
              "          9.9863e-01,  1.1138e+00,  9.6291e-01, -3.9984e-01, -1.6873e+00,\n",
              "         -4.5744e-01, -2.7429e-03,  4.1402e-01,  2.4028e-01,  2.9667e-01,\n",
              "         -1.3784e-01,  1.2681e+00, -9.4255e-01,  3.3492e-01, -4.9226e-01,\n",
              "         -8.5960e-01, -1.0299e+00, -8.2791e-01, -4.9027e-01,  1.0335e+00,\n",
              "         -3.6446e-01,  8.0097e-03,  1.5892e-01, -1.7929e+00, -4.5532e-01,\n",
              "         -8.4056e-01,  4.1231e-01,  2.6537e-01, -1.6108e-01, -1.2784e-01,\n",
              "         -1.4866e-02, -5.9117e-01, -3.6060e-01,  2.4923e-01, -8.3534e-01,\n",
              "         -6.0894e-01, -1.4549e+00,  4.2902e-01,  6.7341e-01, -4.3011e-01,\n",
              "         -2.1032e-01, -5.2880e-01, -5.9567e-01,  1.9781e-02,  8.5273e-01,\n",
              "         -5.2621e-01, -1.2063e-01, -8.1497e-01, -1.7211e-01, -1.0726e+00,\n",
              "         -2.0521e-02,  1.8625e-01, -6.5789e-01, -1.0789e+00, -1.4144e+00,\n",
              "         -2.5827e-01,  4.9898e-01, -5.2979e-01,  8.0048e-01, -1.2842e-01,\n",
              "         -2.5210e-01,  9.7347e-01, -2.9873e-01, -6.5793e-01, -2.1097e+00,\n",
              "          1.0103e+00, -1.5293e+00,  3.1379e-01,  2.2517e-01, -9.3651e-01,\n",
              "         -7.4356e-01, -4.0423e-02,  2.7781e-01, -4.7875e-01, -9.8870e-01,\n",
              "         -1.2229e+00, -2.5263e+00,  1.2386e+00, -5.1254e-02, -1.1035e+00,\n",
              "         -5.9192e-01, -1.2137e+00, -1.1129e+00, -1.6931e+00, -5.6519e-01,\n",
              "         -1.9495e-01,  1.5483e-01, -5.4974e-01,  1.0873e+00,  1.1030e+00]],\n",
              "       grad_fn=<AddmmBackward>)"
            ]
          },
          "metadata": {
            "tags": []
          },
          "execution_count": 6
        }
      ]
    },
    {
      "cell_type": "markdown",
      "metadata": {
        "id": "IdOD7Odrooel"
      },
      "source": [
        "We use the model's prediction and the corresponding label to calculate the error (``loss``).\n",
        "The next step is to backpropagate this error through the network.\n",
        "Backward propagation is kicked off when we call ``.backward()`` on the error tensor.\n",
        "Autograd then calculates and stores the gradients for each model parameter in the parameter's ``.grad`` attribute.\n",
        "\n",
        "\n"
      ]
    },
    {
      "cell_type": "code",
      "metadata": {
        "id": "ZEXLsSfBooem"
      },
      "source": [
        "loss = (prediction - labels).sum()\n",
        "loss.backward() # backward pass"
      ],
      "execution_count": 7,
      "outputs": []
    },
    {
      "cell_type": "code",
      "metadata": {
        "id": "96Uvr8rJpuB0",
        "outputId": "a58add1a-38a4-4331-c009-e3e6f1bca7bd",
        "colab": {
          "base_uri": "https://localhost:8080/"
        }
      },
      "source": [
        "loss"
      ],
      "execution_count": 8,
      "outputs": [
        {
          "output_type": "execute_result",
          "data": {
            "text/plain": [
              "tensor(-491.7003, grad_fn=<SumBackward0>)"
            ]
          },
          "metadata": {
            "tags": []
          },
          "execution_count": 8
        }
      ]
    },
    {
      "cell_type": "markdown",
      "metadata": {
        "id": "tnw3Y3Zbooem"
      },
      "source": [
        "Next, we load an optimizer, in this case SGD with a learning rate of 0.01 and momentum of 0.9.\n",
        "We register all the parameters of the model in the optimizer.\n",
        "\n",
        "\n"
      ]
    },
    {
      "cell_type": "code",
      "metadata": {
        "id": "FsNJnhSVooem"
      },
      "source": [
        "optim = torch.optim.SGD(model.parameters(), lr=1e-2, momentum=0.9)"
      ],
      "execution_count": 9,
      "outputs": []
    },
    {
      "cell_type": "markdown",
      "metadata": {
        "id": "1B1nVGyrooen"
      },
      "source": [
        "Finally, we call ``.step()`` to initiate gradient descent. The optimizer adjusts each parameter by its gradient stored in ``.grad``.\n",
        "\n",
        "\n"
      ]
    },
    {
      "cell_type": "code",
      "metadata": {
        "id": "ye27YAdeooen"
      },
      "source": [
        "optim.step() #gradient descent"
      ],
      "execution_count": 10,
      "outputs": []
    },
    {
      "cell_type": "markdown",
      "metadata": {
        "id": "4EjGs48Hooen"
      },
      "source": [
        "At this point, you have everything you need to train your neural network.\n",
        "The below sections detail the workings of autograd - feel free to skip them.\n",
        "\n",
        "\n"
      ]
    },
    {
      "cell_type": "markdown",
      "metadata": {
        "id": "GvwdY13kooen"
      },
      "source": [
        "--------------\n",
        "\n",
        "\n"
      ]
    },
    {
      "cell_type": "markdown",
      "metadata": {
        "id": "4XInRCC9ooen"
      },
      "source": [
        "Differentiation in Autograd\n",
        "~~~~~~~~~~~~~~~~~~~~~~~~~~~\n",
        "Let's take a look at how ``autograd`` collects gradients. We create two tensors ``a`` and ``b`` with\n",
        "``requires_grad=True``. This signals to ``autograd`` that every operation on them should be tracked.\n",
        "\n",
        "\n"
      ]
    },
    {
      "cell_type": "code",
      "metadata": {
        "id": "9R6HZuTAooeo"
      },
      "source": [
        "import torch\n",
        "\n",
        "a = torch.tensor([2., 3.], requires_grad=True)\n",
        "b = torch.tensor([6., 4.], requires_grad=True)"
      ],
      "execution_count": 11,
      "outputs": []
    },
    {
      "cell_type": "code",
      "metadata": {
        "id": "sUdPUL9xqmXU",
        "outputId": "18297b82-b2ef-4a58-d51c-03850209b235",
        "colab": {
          "base_uri": "https://localhost:8080/"
        }
      },
      "source": [
        "a"
      ],
      "execution_count": 12,
      "outputs": [
        {
          "output_type": "execute_result",
          "data": {
            "text/plain": [
              "tensor([2., 3.], requires_grad=True)"
            ]
          },
          "metadata": {
            "tags": []
          },
          "execution_count": 12
        }
      ]
    },
    {
      "cell_type": "markdown",
      "metadata": {
        "id": "y7IS3w_mooeo"
      },
      "source": [
        "We create another tensor ``Q`` from ``a`` and ``b``.\n",
        "\n",
        "\\begin{align}Q = 3a^3 - b^2\\end{align}\n",
        "\n"
      ]
    },
    {
      "cell_type": "code",
      "metadata": {
        "id": "k1Z9hugAooeo"
      },
      "source": [
        "Q = 3*a**3 - b**2"
      ],
      "execution_count": 14,
      "outputs": []
    },
    {
      "cell_type": "code",
      "metadata": {
        "id": "PuqnrKhNrIlJ",
        "outputId": "9fc613be-3a04-4855-9561-ec0790deef9f",
        "colab": {
          "base_uri": "https://localhost:8080/"
        }
      },
      "source": [
        "Q"
      ],
      "execution_count": 15,
      "outputs": [
        {
          "output_type": "execute_result",
          "data": {
            "text/plain": [
              "tensor([-12.,  65.], grad_fn=<SubBackward0>)"
            ]
          },
          "metadata": {
            "tags": []
          },
          "execution_count": 15
        }
      ]
    },
    {
      "cell_type": "markdown",
      "metadata": {
        "id": "831B1UPWooeo"
      },
      "source": [
        "Let's assume ``a`` and ``b`` to be parameters of an NN, and ``Q``\n",
        "to be the error. In NN training, we want gradients of the error\n",
        "w.r.t. parameters, i.e.\n",
        "\n",
        "\\begin{align}\\frac{\\partial Q}{\\partial a} = 9a^2\\end{align}\n",
        "\n",
        "\\begin{align}\\frac{\\partial Q}{\\partial b} = -2b\\end{align}\n",
        "\n",
        "\n",
        "When we call ``.backward()`` on ``Q``, autograd calculates these gradients\n",
        "and stores them in the respective tensors' ``.grad`` attribute.\n",
        "\n",
        "We need to explicitly pass a ``gradient`` argument in ``Q.backward()`` because it is a vector.\n",
        "``gradient`` is a tensor of the same shape as ``Q``, and it represents the\n",
        "gradient of Q w.r.t. itself, i.e.\n",
        "\n",
        "\\begin{align}\\frac{dQ}{dQ} = 1\\end{align}\n",
        "\n",
        "Equivalently, we can also aggregate Q into a scalar and call backward implicitly, like ``Q.sum().backward()``.\n",
        "\n",
        "\n"
      ]
    },
    {
      "cell_type": "code",
      "metadata": {
        "id": "zxnF8o1Jooeo"
      },
      "source": [
        "external_grad = torch.tensor([1., 1.])\n",
        "Q.backward(gradient=external_grad)"
      ],
      "execution_count": 16,
      "outputs": []
    },
    {
      "cell_type": "markdown",
      "metadata": {
        "id": "mnzcy7yyooep"
      },
      "source": [
        "Gradients are now deposited in ``a.grad`` and ``b.grad``\n",
        "\n"
      ]
    },
    {
      "cell_type": "code",
      "metadata": {
        "id": "5KhLD0JHooep",
        "outputId": "2e01f310-835c-4b9f-941e-f747a43ab767",
        "colab": {
          "base_uri": "https://localhost:8080/"
        }
      },
      "source": [
        "# check if collected gradients are correct\n",
        "print(9*a**2 == a.grad)\n",
        "print(-2*b == b.grad)"
      ],
      "execution_count": 17,
      "outputs": [
        {
          "output_type": "stream",
          "text": [
            "tensor([True, True])\n",
            "tensor([True, True])\n"
          ],
          "name": "stdout"
        }
      ]
    },
    {
      "cell_type": "markdown",
      "metadata": {
        "id": "0cJI5hh4ooep"
      },
      "source": [
        "Optional Reading - Vector Calculus using ``autograd``\n",
        "^^^^^^^^^^^^^^^^^^^^^^^^^^^^^^^^^^^^^^^^^^^^^^\n",
        "\n",
        "Mathematically, if you have a vector valued function\n",
        "$\\vec{y}=f(\\vec{x})$, then the gradient of $\\vec{y}$ with\n",
        "respect to $\\vec{x}$ is a Jacobian matrix $J$:\n",
        "\n",
        "\\begin{align}J\n",
        "     =\n",
        "      \\left(\\begin{array}{cc}\n",
        "      \\frac{\\partial \\bf{y}}{\\partial x_{1}} &\n",
        "      ... &\n",
        "      \\frac{\\partial \\bf{y}}{\\partial x_{n}}\n",
        "      \\end{array}\\right)\n",
        "     =\n",
        "     \\left(\\begin{array}{ccc}\n",
        "      \\frac{\\partial y_{1}}{\\partial x_{1}} & \\cdots & \\frac{\\partial y_{1}}{\\partial x_{n}}\\\\\n",
        "      \\vdots & \\ddots & \\vdots\\\\\n",
        "      \\frac{\\partial y_{m}}{\\partial x_{1}} & \\cdots & \\frac{\\partial y_{m}}{\\partial x_{n}}\n",
        "      \\end{array}\\right)\\end{align}\n",
        "\n",
        "Generally speaking, ``torch.autograd`` is an engine for computing\n",
        "vector-Jacobian product. That is, given any vector $\\vec{v}$, compute the product\n",
        "$J^{T}\\cdot \\vec{v}$\n",
        "\n",
        "If $\\vec{v}$ happens to be the gradient of a scalar function $l=g\\left(\\vec{y}\\right)$:\n",
        "\n",
        "\\begin{align}\\vec{v}\n",
        "   =\n",
        "   \\left(\\begin{array}{ccc}\\frac{\\partial l}{\\partial y_{1}} & \\cdots & \\frac{\\partial l}{\\partial y_{m}}\\end{array}\\right)^{T}\\end{align}\n",
        "\n",
        "then by the chain rule, the vector-Jacobian product would be the\n",
        "gradient of $l$ with respect to $\\vec{x}$:\n",
        "\n",
        "\\begin{align}J^{T}\\cdot \\vec{v}=\\left(\\begin{array}{ccc}\n",
        "      \\frac{\\partial y_{1}}{\\partial x_{1}} & \\cdots & \\frac{\\partial y_{m}}{\\partial x_{1}}\\\\\n",
        "      \\vdots & \\ddots & \\vdots\\\\\n",
        "      \\frac{\\partial y_{1}}{\\partial x_{n}} & \\cdots & \\frac{\\partial y_{m}}{\\partial x_{n}}\n",
        "      \\end{array}\\right)\\left(\\begin{array}{c}\n",
        "      \\frac{\\partial l}{\\partial y_{1}}\\\\\n",
        "      \\vdots\\\\\n",
        "      \\frac{\\partial l}{\\partial y_{m}}\n",
        "      \\end{array}\\right)=\\left(\\begin{array}{c}\n",
        "      \\frac{\\partial l}{\\partial x_{1}}\\\\\n",
        "      \\vdots\\\\\n",
        "      \\frac{\\partial l}{\\partial x_{n}}\n",
        "      \\end{array}\\right)\\end{align}\n",
        "\n",
        "This characteristic of vector-Jacobian product is what we use in the above example;\n",
        "``external_grad`` represents $\\vec{v}$.\n",
        "\n",
        "\n"
      ]
    },
    {
      "cell_type": "markdown",
      "metadata": {
        "id": "IsThWYnoooeq"
      },
      "source": [
        "Computational Graph\n",
        "~~~~~~~~~~~~~~~~~~~\n",
        "\n",
        "Conceptually, autograd keeps a record of data (tensors) & all executed\n",
        "operations (along with the resulting new tensors) in a directed acyclic\n",
        "graph (DAG) consisting of\n",
        "`Function <https://pytorch.org/docs/stable/autograd.html#torch.autograd.Function>`__\n",
        "objects. In this DAG, leaves are the input tensors, roots are the output\n",
        "tensors. By tracing this graph from roots to leaves, you can\n",
        "automatically compute the gradients using the chain rule.\n",
        "\n",
        "In a forward pass, autograd does two things simultaneously:\n",
        "\n",
        "- run the requested operation to compute a resulting tensor, and\n",
        "- maintain the operation’s *gradient function* in the DAG.\n",
        "\n",
        "The backward pass kicks off when ``.backward()`` is called on the DAG\n",
        "root. ``autograd`` then:\n",
        "\n",
        "- computes the gradients from each ``.grad_fn``,\n",
        "- accumulates them in the respective tensor’s ``.grad`` attribute, and\n",
        "- using the chain rule, propagates all the way to the leaf tensors.\n",
        "\n",
        "Below is a visual representation of the DAG in our example. In the graph,\n",
        "the arrows are in the direction of the forward pass. The nodes represent the backward functions\n",
        "of each operation in the forward pass. The leaf nodes in blue represent our leaf tensors ``a`` and ``b``.\n",
        "\n",
        ".. figure:: /_static/img/dag_autograd.png\n",
        "\n",
        "<div class=\"alert alert-info\"><h4>Note</h4><p>**DAGs are dynamic in PyTorch**\n",
        "  An important thing to note is that the graph is recreated from scratch; after each\n",
        "  ``.backward()`` call, autograd starts populating a new graph. This is\n",
        "  exactly what allows you to use control flow statements in your model;\n",
        "  you can change the shape, size and operations at every iteration if\n",
        "  needed.</p></div>\n",
        "\n",
        "Exclusion from the DAG\n",
        "^^^^^^^^^^^^^^^^^^^^^^\n",
        "\n",
        "``torch.autograd`` tracks operations on all tensors which have their\n",
        "``requires_grad`` flag set to ``True``. For tensors that don’t require\n",
        "gradients, setting this attribute to ``False`` excludes it from the\n",
        "gradient computation DAG.\n",
        "\n",
        "The output tensor of an operation will require gradients even if only a\n",
        "single input tensor has ``requires_grad=True``.\n",
        "\n",
        "\n"
      ]
    },
    {
      "cell_type": "code",
      "metadata": {
        "id": "iexP2Q91ooeq"
      },
      "source": [
        "x = torch.rand(5, 5)\n",
        "y = torch.rand(5, 5)\n",
        "z = torch.rand((5, 5), requires_grad=True)\n",
        "\n",
        "a = x + y\n",
        "print(f\"Does `a` require gradients? : {a.requires_grad}\")\n",
        "b = x + z\n",
        "print(f\"Does `b` require gradients?: {b.requires_grad}\")"
      ],
      "execution_count": null,
      "outputs": []
    },
    {
      "cell_type": "markdown",
      "metadata": {
        "id": "k9R8D6-Zooeq"
      },
      "source": [
        "In a NN, parameters that don't compute gradients are usually called **frozen parameters**.\n",
        "It is useful to \"freeze\" part of your model if you know in advance that you won't need the gradients of those parameters\n",
        "(this offers some performance benefits by reducing autograd computations).\n",
        "\n",
        "Another common usecase where exclusion from the DAG is important is for\n",
        "`finetuning a pretrained network <https://pytorch.org/tutorials/beginner/finetuning_torchvision_models_tutorial.html>`__\n",
        "\n",
        "In finetuning, we freeze most of the model and typically only modify the classifier layers to make predictions on new labels.\n",
        "Let's walk through a small example to demonstrate this. As before, we load a pretrained resnet18 model, and freeze all the parameters.\n",
        "\n"
      ]
    },
    {
      "cell_type": "code",
      "metadata": {
        "id": "IpvBhH9Sooer"
      },
      "source": [
        "from torch import nn, optim\n",
        "\n",
        "model = torchvision.models.resnet18(pretrained=True)\n",
        "\n",
        "# Freeze all the parameters in the network\n",
        "for param in model.parameters():\n",
        "    param.requires_grad = False"
      ],
      "execution_count": null,
      "outputs": []
    },
    {
      "cell_type": "markdown",
      "metadata": {
        "id": "SIS5l9eGooer"
      },
      "source": [
        "Let's say we want to finetune the model on a new dataset with 10 labels.\n",
        "In resnet, the classifier is the last linear layer ``model.fc``.\n",
        "We can simply replace it with a new linear layer (unfrozen by default)\n",
        "that acts as our classifier.\n",
        "\n"
      ]
    },
    {
      "cell_type": "code",
      "metadata": {
        "id": "xWQQvqU9ooer"
      },
      "source": [
        "model.fc = nn.Linear(512, 10)"
      ],
      "execution_count": null,
      "outputs": []
    },
    {
      "cell_type": "markdown",
      "metadata": {
        "id": "IwYxatlsooer"
      },
      "source": [
        "Now all parameters in the model, except the parameters of ``model.fc``, are frozen.\n",
        "The only parameters that compute gradients are the weights and bias of ``model.fc``.\n",
        "\n"
      ]
    },
    {
      "cell_type": "code",
      "metadata": {
        "id": "uKZ5VlXMooer"
      },
      "source": [
        "# Optimize only the classifier\n",
        "optimizer = optim.SGD(model.parameters(), lr=1e-2, momentum=0.9)"
      ],
      "execution_count": null,
      "outputs": []
    },
    {
      "cell_type": "markdown",
      "metadata": {
        "id": "OfmZhxvuooer"
      },
      "source": [
        "Notice although we register all the parameters in the optimizer,\n",
        "the only parameters that are computing gradients (and hence updated in gradient descent)\n",
        "are the weights and bias of the classifier.\n",
        "\n",
        "The same exclusionary functionality is available as a context manager in\n",
        "`torch.no_grad() <https://pytorch.org/docs/stable/generated/torch.no_grad.html>`__\n",
        "\n",
        "\n"
      ]
    },
    {
      "cell_type": "markdown",
      "metadata": {
        "id": "FtVBBPBTooes"
      },
      "source": [
        "--------------\n",
        "\n",
        "\n"
      ]
    },
    {
      "cell_type": "markdown",
      "metadata": {
        "id": "0QRqg7Zhooes"
      },
      "source": [
        "Further readings:\n",
        "~~~~~~~~~~~~~~~~~~~\n",
        "\n",
        "-  `In-place operations & Multithreaded Autograd <https://pytorch.org/docs/stable/notes/autograd.html>`__\n",
        "-  `Example implementation of reverse-mode autodiff <https://colab.research.google.com/drive/1VpeE6UvEPRz9HmsHh1KS0XxXjYu533EC>`__\n",
        "\n"
      ]
    }
  ]
}